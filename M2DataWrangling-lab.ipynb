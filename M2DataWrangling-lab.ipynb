import pandas as pd

from pyodide.http import pyfetch

async def download(url, filename):
    response = await pyfetch(url)
    if response.status == 200:
        with open(filename, "wb") as f:
            f.write(await response.bytes())

file_path = "https://cf-courses-data.s3.us.cloud-object-storage.appdomain.cloud/IBM-DA0321EN-SkillsNetwork/LargeData/m1_survey_data.csv"
await download(file_path, "m1_survey_data.csv")
file_name="m1_survey_data.csv"
df = pd.read_csv(file_name)

print(df.duplicated().sum())
df.drop_duplicates(inplace = True)
print(df.duplicated().value_counts())
df.columns[df.isnull().any()]

df['WorkLoc'].isna().sum()

#majority value count
majority = df['WorkLoc'].value_counts().idxmax()
print(majority)
df['WorkLoc'].fillna('Office', inplace=True)
df['WorkLoc'].isna().sum()

df.CompFreq.value_counts().index

# Initializing the list to store normalized annual compensation
anncomp = []

# Defining the NAC function to normalize compensation based on frequency
def NAC():
    # Iterating through the 'CompFreq' and 'CompTotal' columns simultaneously
    for x, y in zip(df['CompFreq'], df['CompTotal']):
        # If compensation frequency is monthly, multiply by 12 to annualize
        if x == 'Monthly':
            anncomp.append(y * 12)
        # If compensation frequency is weekly, multiply by 52 to annualize
        elif x == 'Weekly':
            anncomp.append(y * 52)
        # Otherwise, assume the compensation is already annual
        else:
            anncomp.append(y)

# Calling the NAC function to calculate normalized annual compensation
NAC()

# Adding the 'NormalizedAnnualCompensation' column to the DataFrame
df['NormalizedAnnualCompensation'] = anncomp

# Displaying the 'NormalizedAnnualCompensation' column
df[['NormalizedAnnualCompensation']]
